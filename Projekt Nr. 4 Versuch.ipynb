{
 "cells": [
  {
   "cell_type": "markdown",
   "id": "16f43fee",
   "metadata": {},
   "source": [
    "# Frage 4: In welchem der letzten 10 Jahre hat Tim Burton bei den meisten Filmen Regie geführt?"
   ]
  },
  {
   "cell_type": "code",
   "execution_count": 1,
   "id": "5eb27162",
   "metadata": {},
   "outputs": [],
   "source": [
    "import urllib.request\n",
    "import gzip\n",
    "import pandas as pd"
   ]
  },
  {
   "cell_type": "code",
   "execution_count": 2,
   "id": "3b61415a",
   "metadata": {},
   "outputs": [],
   "source": [
    "url = \"https://datasets.imdbws.com/title.crew.tsv.gz\""
   ]
  },
  {
   "cell_type": "code",
   "execution_count": 3,
   "id": "77f9cdd9",
   "metadata": {},
   "outputs": [],
   "source": [
    "title_crew_file = \"title_crew_file.csv\""
   ]
  },
  {
   "cell_type": "code",
   "execution_count": 4,
   "id": "740f276f",
   "metadata": {},
   "outputs": [
    {
     "data": {
      "text/plain": [
       "('title_crew_file.csv', <http.client.HTTPMessage at 0x1f95294eb50>)"
      ]
     },
     "execution_count": 4,
     "metadata": {},
     "output_type": "execute_result"
    }
   ],
   "source": [
    "urllib.request.urlretrieve(url, title_crew_file)"
   ]
  },
  {
   "cell_type": "code",
   "execution_count": null,
   "id": "f539f06f",
   "metadata": {},
   "outputs": [],
   "source": [
    "title = pd.read_csv(title_crew_file, compression = 'gzip', sep = \"\\t\")"
   ]
  },
  {
   "cell_type": "code",
   "execution_count": null,
   "id": "5825918e",
   "metadata": {},
   "outputs": [],
   "source": []
  },
  {
   "cell_type": "code",
   "execution_count": null,
   "id": "a74d4c99",
   "metadata": {},
   "outputs": [],
   "source": []
  }
 ],
 "metadata": {
  "kernelspec": {
   "display_name": "Python 3 (ipykernel)",
   "language": "python",
   "name": "python3"
  },
  "language_info": {
   "codemirror_mode": {
    "name": "ipython",
    "version": 3
   },
   "file_extension": ".py",
   "mimetype": "text/x-python",
   "name": "python",
   "nbconvert_exporter": "python",
   "pygments_lexer": "ipython3",
   "version": "3.9.7"
  }
 },
 "nbformat": 4,
 "nbformat_minor": 5
}
