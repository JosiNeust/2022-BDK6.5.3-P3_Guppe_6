{
 "cells": [
  {
   "cell_type": "markdown",
   "metadata": {},
   "source": [
    "***\n",
    "---\n",
    "# <font color='darkslategray'><span style='font-family:Georgia'> Frage 5: Wie wurden die Folgen der Miniserie “Das Damengambit” im Durchschnitt bewertet? </span></font>\n",
    "---\n",
    "***"
   ]
  },
  {
   "cell_type": "markdown",
   "metadata": {},
   "source": [
    "## <font color='darkslategray'><span style='font-family:Georgia'>Import der Bibliotheken</span></font>"
   ]
  },
  {
   "cell_type": "code",
   "execution_count": 1,
   "metadata": {},
   "outputs": [],
   "source": [
    "import urllib.request\n",
    "import pandas as pd\n",
    "import matplotlib.pyplot as plt"
   ]
  },
  {
   "cell_type": "markdown",
   "metadata": {},
   "source": [
    "## <font color='darkslategray'><span style='font-family:Georgia'>Import und Aufbereitung der Datensätze</span></font>"
   ]
  },
  {
   "cell_type": "code",
   "execution_count": 2,
   "metadata": {},
   "outputs": [],
   "source": [
    "# Speichern der benötigten URLs\n",
    "url_data_ratings = \"https://datasets.imdbws.com/title.ratings.tsv.gz\" \n",
    "url_data_episodes = \"https://datasets.imdbws.com/title.episode.tsv.gz\"\n",
    "url_data_information = \"https://datasets.imdbws.com/title.akas.tsv.gz\""
   ]
  },
  {
   "cell_type": "code",
   "execution_count": 3,
   "metadata": {},
   "outputs": [],
   "source": [
    "# Zusammenfassen der benötigten Daten (Name der Datei, URL)\n",
    "title_episode_file = \"title_episode.tsv.gz\", url_data_episodes\n",
    "title_ratings_file = \"title_ratings.tsv.gz\", url_data_ratings\n",
    "title_information_file = \"title.akas.tsv.gz\", url_data_information"
   ]
  },
  {
   "cell_type": "code",
   "execution_count": 4,
   "metadata": {},
   "outputs": [
    {
     "data": {
      "text/plain": [
       "('title.akas.tsv.gz', <http.client.HTTPMessage at 0x20a65248af0>)"
      ]
     },
     "execution_count": 4,
     "metadata": {},
     "output_type": "execute_result"
    }
   ],
   "source": [
    "# Download der Daten auf lokalem Gerät\n",
    "urllib.request.urlretrieve(title_ratings_file[1], title_ratings_file[0])\n",
    "urllib.request.urlretrieve(title_episode_file[1], title_episode_file[0])\n",
    "urllib.request.urlretrieve(title_information_file[1], title_information_file[0])"
   ]
  },
  {
   "cell_type": "code",
   "execution_count": 5,
   "metadata": {},
   "outputs": [],
   "source": [
    "# Auslesen der Informationen zu den Bewertungen und Speicherung in einer Variable\n",
    "ratings = pd.read_csv(title_ratings_file[0], compression='gzip', sep = \"\\t\") "
   ]
  },
  {
   "cell_type": "code",
   "execution_count": 6,
   "metadata": {},
   "outputs": [],
   "source": [
    "# Auslesen der Informationen zu den Episoden und Speicherung in einer Variable\n",
    "episodes = pd.read_csv(title_episode_file[0], compression='gzip', sep = \"\\t\") "
   ]
  },
  {
   "cell_type": "code",
   "execution_count": 7,
   "metadata": {},
   "outputs": [
    {
     "name": "stderr",
     "output_type": "stream",
     "text": [
      "C:\\Users\\DenniSandra\\anaconda3\\lib\\site-packages\\IPython\\core\\interactiveshell.py:3146: DtypeWarning: Columns (7) have mixed types.Specify dtype option on import or set low_memory=False.\n",
      "  has_raised = await self.run_ast_nodes(code_ast.body, cell_name,\n"
     ]
    }
   ],
   "source": [
    "# Auslesen der Informationen zu der Serie und Speicherung in einer Variable\n",
    "information = pd.read_csv(title_information_file[0], compression='gzip', sep = \"\\t\") \n",
    "# Dtype Warnung aufgrund unterschiedlicher Datentypen im Datensatz"
   ]
  },
  {
   "cell_type": "markdown",
   "metadata": {},
   "source": [
    "## <font color='darkslategray'><span style='font-family:Georgia'>Suche nach der Serie im Datensatz</span></font>"
   ]
  },
  {
   "cell_type": "code",
   "execution_count": 8,
   "metadata": {},
   "outputs": [
    {
     "data": {
      "text/plain": [
       "'tt10048342'"
      ]
     },
     "execution_count": 8,
     "metadata": {},
     "output_type": "execute_result"
    }
   ],
   "source": [
    "# Wenn der Titel identisch mit \"Das Damengambit\" ist, werden die Daten aus dem Datensatz in der Variable gespeichert\n",
    "titlename = information[information[\"title\"] == \"Das Damengambit\"]\n",
    "\n",
    "# Extraktion der Titelidentifikationsnummer \n",
    "# (wird benötigt um relevante Informationen der Serie in den anderen Datensätzen zu identifizieren)\n",
    "# - dabei ist zu beachten, dass die Titel ID alle Ländererscheinungen umfasst\n",
    "\n",
    "title = titlename.titleId.iloc[0] # iloc[0] entfernt die Labels von den Daten\n",
    "title"
   ]
  },
  {
   "cell_type": "code",
   "execution_count": 9,
   "metadata": {},
   "outputs": [
    {
     "data": {
      "text/html": [
       "<div>\n",
       "<style scoped>\n",
       "    .dataframe tbody tr th:only-of-type {\n",
       "        vertical-align: middle;\n",
       "    }\n",
       "\n",
       "    .dataframe tbody tr th {\n",
       "        vertical-align: top;\n",
       "    }\n",
       "\n",
       "    .dataframe thead th {\n",
       "        text-align: right;\n",
       "    }\n",
       "</style>\n",
       "<table border=\"1\" class=\"dataframe\">\n",
       "  <thead>\n",
       "    <tr style=\"text-align: right;\">\n",
       "      <th></th>\n",
       "      <th>tconst</th>\n",
       "      <th>parentTconst</th>\n",
       "      <th>seasonNumber</th>\n",
       "      <th>episodeNumber</th>\n",
       "    </tr>\n",
       "  </thead>\n",
       "  <tbody>\n",
       "    <tr>\n",
       "      <th>468339</th>\n",
       "      <td>tt10062310</td>\n",
       "      <td>tt10048342</td>\n",
       "      <td>1</td>\n",
       "      <td>1</td>\n",
       "    </tr>\n",
       "    <tr>\n",
       "      <th>468340</th>\n",
       "      <td>tt10062312</td>\n",
       "      <td>tt10048342</td>\n",
       "      <td>1</td>\n",
       "      <td>2</td>\n",
       "    </tr>\n",
       "    <tr>\n",
       "      <th>468341</th>\n",
       "      <td>tt10062314</td>\n",
       "      <td>tt10048342</td>\n",
       "      <td>1</td>\n",
       "      <td>3</td>\n",
       "    </tr>\n",
       "    <tr>\n",
       "      <th>468343</th>\n",
       "      <td>tt10062318</td>\n",
       "      <td>tt10048342</td>\n",
       "      <td>1</td>\n",
       "      <td>4</td>\n",
       "    </tr>\n",
       "    <tr>\n",
       "      <th>468345</th>\n",
       "      <td>tt10062320</td>\n",
       "      <td>tt10048342</td>\n",
       "      <td>1</td>\n",
       "      <td>5</td>\n",
       "    </tr>\n",
       "    <tr>\n",
       "      <th>468346</th>\n",
       "      <td>tt10062322</td>\n",
       "      <td>tt10048342</td>\n",
       "      <td>1</td>\n",
       "      <td>6</td>\n",
       "    </tr>\n",
       "    <tr>\n",
       "      <th>1795149</th>\n",
       "      <td>tt12984026</td>\n",
       "      <td>tt10048342</td>\n",
       "      <td>1</td>\n",
       "      <td>7</td>\n",
       "    </tr>\n",
       "  </tbody>\n",
       "</table>\n",
       "</div>"
      ],
      "text/plain": [
       "             tconst parentTconst seasonNumber episodeNumber\n",
       "468339   tt10062310   tt10048342            1             1\n",
       "468340   tt10062312   tt10048342            1             2\n",
       "468341   tt10062314   tt10048342            1             3\n",
       "468343   tt10062318   tt10048342            1             4\n",
       "468345   tt10062320   tt10048342            1             5\n",
       "468346   tt10062322   tt10048342            1             6\n",
       "1795149  tt12984026   tt10048342            1             7"
      ]
     },
     "execution_count": 9,
     "metadata": {},
     "output_type": "execute_result"
    }
   ],
   "source": [
    "# Rausfiltern der benötigten Episodenidentifikationsnummer anhand der Titelidentifikationsnummer\n",
    "# Wenn die Titelidentifikationsnummern identisch sind, werden die Daten aus dem Datensatz in der Variable gespeichert\n",
    "episode_Damengambit = episodes[episodes[\"parentTconst\"] == \"tt10048342\"]\n",
    "episode_Damengambit"
   ]
  },
  {
   "cell_type": "markdown",
   "metadata": {},
   "source": [
    "## <font color='darkslategray'><span style='font-family:Georgia'>Definition und Visualisierung der allgemeinen Serienbewertung</span></font>"
   ]
  },
  {
   "cell_type": "code",
   "execution_count": 10,
   "metadata": {},
   "outputs": [
    {
     "data": {
      "text/html": [
       "<div>\n",
       "<style scoped>\n",
       "    .dataframe tbody tr th:only-of-type {\n",
       "        vertical-align: middle;\n",
       "    }\n",
       "\n",
       "    .dataframe tbody tr th {\n",
       "        vertical-align: top;\n",
       "    }\n",
       "\n",
       "    .dataframe thead th {\n",
       "        text-align: right;\n",
       "    }\n",
       "</style>\n",
       "<table border=\"1\" class=\"dataframe\">\n",
       "  <thead>\n",
       "    <tr style=\"text-align: right;\">\n",
       "      <th></th>\n",
       "      <th>tconst</th>\n",
       "      <th>averageRating</th>\n",
       "      <th>numVotes</th>\n",
       "    </tr>\n",
       "  </thead>\n",
       "  <tbody>\n",
       "    <tr>\n",
       "      <th>453966</th>\n",
       "      <td>tt10048342</td>\n",
       "      <td>8.6</td>\n",
       "      <td>411272</td>\n",
       "    </tr>\n",
       "  </tbody>\n",
       "</table>\n",
       "</div>"
      ],
      "text/plain": [
       "            tconst  averageRating  numVotes\n",
       "453966  tt10048342            8.6    411272"
      ]
     },
     "execution_count": 10,
     "metadata": {},
     "output_type": "execute_result"
    }
   ],
   "source": [
    "# Wenn die Titelidentifikationsnummern identisch sind, werden die Daten aus dem Datensatz in der Variable gespeichert\n",
    "rating_Damengambit = ratings[ratings[\"tconst\"] == \"tt10048342\"]\n",
    "rating_Damengambit"
   ]
  },
  {
   "cell_type": "code",
   "execution_count": 11,
   "metadata": {},
   "outputs": [
    {
     "name": "stdout",
     "output_type": "stream",
     "text": [
      "Folge:  1 \n",
      "             tconst  averageRating  numVotes\n",
      "454510  tt10062310            8.4     10724 \n",
      "\n",
      "Folge:  2 \n",
      "             tconst  averageRating  numVotes\n",
      "454511  tt10062312            8.7      9995 \n",
      "\n",
      "Folge:  3 \n",
      "             tconst  averageRating  numVotes\n",
      "454512  tt10062314            8.4      9056 \n",
      "\n",
      "Folge:  4 \n",
      "             tconst  averageRating  numVotes\n",
      "454513  tt10062318            8.4      8789 \n",
      "\n",
      "Folge:  5 \n",
      "             tconst  averageRating  numVotes\n",
      "454514  tt10062320            8.2      8518 \n",
      "\n",
      "Folge:  6 \n",
      "             tconst  averageRating  numVotes\n",
      "454515  tt10062322            8.4      8609 \n",
      "\n",
      "Folge:  7 \n",
      "             tconst  averageRating  numVotes\n",
      "598803  tt12984026            9.2     11727 \n",
      "\n"
     ]
    }
   ],
   "source": [
    "# Rausfiltern der benötigten Episodeninformationen\n",
    "\n",
    "# Erstellen einer leeren Liste\n",
    "rating_episode_DG = []\n",
    "i = 0\n",
    "# n anhand der Länge von episode_Damengambit (Episodenanzahl) einstellen\n",
    "n = len(episode_Damengambit)\n",
    "while i < n: # Solange Episoden noch vorhanden sind\n",
    "    # wenn die Episodenidentifikationsnummer identisch ist, werden die Daten aus dem Bewertungsdatensatz in der Variable gespeichert\n",
    "    buffer_ratings = ratings[ratings[\"tconst\"] == episode_Damengambit.tconst.iloc[i]] \n",
    "    # Liste mit Daten aus buffer_ratings erweitern (anhängen)\n",
    "    rating_episode_DG.append(buffer_ratings)\n",
    "    print(\"Folge: \" , i+1, \"\\n\",  rating_episode_DG[i], \"\\n\")\n",
    "    # i um 1 erhöhen\n",
    "    i = i + 1"
   ]
  },
  {
   "cell_type": "code",
   "execution_count": 12,
   "metadata": {},
   "outputs": [
    {
     "data": {
      "image/png": "[encoded data removed]",
      "text/plain": [
       "<Figure size 460.8x576 with 1 Axes>"
      ]
     },
     "metadata": {
      "needs_background": "light"
     },
     "output_type": "display_data"
    }
   ],
   "source": [
    "# Verteilung der Balken auf der x-Achse\n",
    "x_axis = [1, 2, 3, 4, 5, 6, 7]\n",
    "\n",
    "# Höhe der Balken\n",
    "# iloc[0,1] entfernt die Labels und nutz die Daten in der zweiten Spalte (erste Datenspalte)\n",
    "# rating_episode_DG[0] Daten an der ersten Stelle der Liste\n",
    "rating = [rating_episode_DG[0].iloc[0,1], rating_episode_DG[1].iloc[0,1], rating_episode_DG[2].iloc[0,1], rating_episode_DG[3].iloc[0,1], rating_episode_DG[4].iloc[0,1], rating_episode_DG[5].iloc[0,1], rating_episode_DG[6].iloc[0,1]]\n",
    "\n",
    "# Bezeichnung der Balken\n",
    "label = [rating_episode_DG[0].iloc[0,2], rating_episode_DG[1].iloc[0,2], rating_episode_DG[2].iloc[0,2], rating_episode_DG[3].iloc[0,2], rating_episode_DG[4].iloc[0,2], rating_episode_DG[5].iloc[0,2], rating_episode_DG[6].iloc[0,2]] \n",
    "\n",
    "# Plot vergrößern (Standardwerte: Breite - 6.4 Höhe - 4.8) um die Stimmen über den Balken im Plot richtig zu präsentieren\n",
    "plt.rcParams[\"figure.figsize\"] = (6.4,8)\n",
    "\n",
    "# Balkendiagramm plotten (x-Werte, y-Werte, Breite der Balken, Farbe der Balken, Rahmenfarbe der Balken)\n",
    "plt.bar(x_axis, rating, width = 0.8, color = \"lightseagreen\", edgecolor = \"cornflowerblue\")\n",
    "\n",
    "# Schleifen zur Erzeugung der Beschriftung im Diagramm\n",
    "for index, value in enumerate(rating):\n",
    "    # index+0.7, value+0.1 sind dazu da, um die angezeigten Werte auszurichten ; str(label[index] dient zur Beschriftung\n",
    "    plt.text(index+0.7, value+0.1, str(label[index]), fontstyle = \"italic\") \n",
    "for index, value in enumerate(rating):\n",
    "    # +0.8 und 1 sind dazu da die angezeigten Werte zu zentrieren ; str(rating[index] dient zur Beschriftung ; color ändert die Textfarbe\n",
    "    plt.text(index+0.8, 1, str(rating[index]), color = \"lightsteelblue\", fontsize = \"large\", fontweight = \"bold\") \n",
    "    \n",
    "# Beschriftung Plot\n",
    "plt.xlabel(\"Episoden\")\n",
    "plt.ylabel(\"Durchschnittliche Bewertung\")\n",
    "plt.title(\"Bewertung der Episoden der Serie 'Das Damengambit'\")\n",
    "\n",
    "# Plot anzeigen\n",
    "plt.show()"
   ]
  }
 ],
 "metadata": {
  "kernelspec": {
   "display_name": "Python 3",
   "language": "python",
   "name": "python3"
  },
  "language_info": {
   "codemirror_mode": {
    "name": "ipython",
    "version": 3
   },
   "file_extension": ".py",
   "mimetype": "text/x-python",
   "name": "python",
   "nbconvert_exporter": "python",
   "pygments_lexer": "ipython3",
   "version": "3.8.5"
  }
 },
 "nbformat": 4,
 "nbformat_minor": 4
}
