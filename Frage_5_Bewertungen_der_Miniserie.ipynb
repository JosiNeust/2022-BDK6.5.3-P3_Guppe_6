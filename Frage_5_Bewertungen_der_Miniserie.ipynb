{
 "cells": [
  {
   "cell_type": "markdown",
   "metadata": {},
   "source": [
    "# Frage 5: Wie wurden die Folgen der Miniserie “Das Damengambit” im Durchschnitt bewertet??"
   ]
  },
  {
   "cell_type": "code",
   "execution_count": 1,
   "metadata": {},
   "outputs": [],
   "source": [
    "import urllib.request\n",
    "import pandas as pd\n",
    "import matplotlib.pyplot as plt"
   ]
  },
  {
   "cell_type": "code",
   "execution_count": 2,
   "metadata": {},
   "outputs": [],
   "source": [
    "# Speichern der benötigten URL's\n",
    "url_data_ratings = \"https://datasets.imdbws.com/title.ratings.tsv.gz\" # Datenset mit den Infos zu den Bewertungen importieren\n",
    "url_data_episodes = \"https://datasets.imdbws.com/title.episode.tsv.gz\" # Datenset mit den Infos zu den Episoden importieren\n",
    "url_data_information = \"https://datasets.imdbws.com/title.akas.tsv.gz\" # Datenset mit den Infos zu den Titelnamen importieren"
   ]
  },
  {
   "cell_type": "code",
   "execution_count": 3,
   "metadata": {},
   "outputs": [],
   "source": [
    "# Zusammenfassen der benötigten Daten (Name der Datei, URL)\n",
    "title_episode_file = \"title_episode.tsv.gz\", url_data_episodes\n",
    "title_ratings_file = \"title_ratings.tsv.gz\", url_data_ratings\n",
    "title_information_file = \"title.akas.tsv.gz\", url_data_information"
   ]
  },
  {
   "cell_type": "code",
   "execution_count": 5,
   "metadata": {},
   "outputs": [
    {
     "data": {
      "text/plain": [
       "('title.akas.tsv.gz', <http.client.HTTPMessage at 0x2455904f370>)"
      ]
     },
     "execution_count": 5,
     "metadata": {},
     "output_type": "execute_result"
    }
   ],
   "source": [
    "# Impotieren der Daten (downloaden der Daten auf lokalem Gerät)\n",
    "urllib.request.urlretrieve(title_ratings_file[1], title_ratings_file[0])\n",
    "urllib.request.urlretrieve(title_episode_file[1], title_episode_file[0])\n",
    "urllib.request.urlretrieve(title_information_file[1], title_information_file[0])"
   ]
  },
  {
   "cell_type": "code",
   "execution_count": 6,
   "metadata": {},
   "outputs": [],
   "source": [
    "# Auslesen der Informationen zu den Bewertungen und Speicherung in Variable\n",
    "ratings = pd.read_csv(title_ratings_file[0], compression='gzip', sep = \"\\t\") # Problem: keine csv datei sondern tsv, möglicherweise zip-datei "
   ]
  },
  {
   "cell_type": "code",
   "execution_count": 7,
   "metadata": {},
   "outputs": [],
   "source": [
    "# Auslesen der Informationen zu den Episoden und Speicherung in Variable\n",
    "episodes = pd.read_csv(title_episode_file[0], compression='gzip', sep = \"\\t\") # Problem: keine csv datei sondern tsv, möglicherweise zip-datei "
   ]
  },
  {
   "cell_type": "code",
   "execution_count": 25,
   "metadata": {},
   "outputs": [],
   "source": [
    "# Auslesen der Informationen zu der Serie und Speicherung in Variable\n",
    "information = pd.read_csv(title_information_file[0], compression='gzip', sep = \"\\t\") # Problem: keine csv datei sondern tsv, möglicherweise zip-datei "
   ]
  },
  {
   "cell_type": "code",
   "execution_count": 104,
   "metadata": {},
   "outputs": [],
   "source": [
    "# Suche nach Serie im Datensatz\n",
    "titelname = information[information[\"title\"] == \"Das Damengambit\"]\n",
    "# Extraktion des Titelidentifikationsnummer \n",
    "# (wird benötigt um relevante Informationen der Serie in den anderen Datensätzen zu identifizieren)\n",
    "# Dabei ist zu beachten das die Titel ID alle Länder erscheinungen umfasst.\n",
    "titel = titelname.titleId.iloc[0]"
   ]
  },
  {
   "cell_type": "code",
   "execution_count": null,
   "metadata": {},
   "outputs": [],
   "source": []
  }
 ],
 "metadata": {
  "kernelspec": {
   "display_name": "Python 3",
   "language": "python",
   "name": "python3"
  },
  "language_info": {
   "codemirror_mode": {
    "name": "ipython",
    "version": 3
   },
   "file_extension": ".py",
   "mimetype": "text/x-python",
   "name": "python",
   "nbconvert_exporter": "python",
   "pygments_lexer": "ipython3",
   "version": "3.8.5"
  }
 },
 "nbformat": 4,
 "nbformat_minor": 4
}
